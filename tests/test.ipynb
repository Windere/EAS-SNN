{
 "cells": [
  {
   "cell_type": "markdown",
   "source": [],
   "metadata": {
    "collapsed": false
   }
  },
  {
   "cell_type": "code",
   "execution_count": 41,
   "metadata": {
    "collapsed": true,
    "ExecuteTime": {
     "end_time": "2023-11-27T08:50:40.889317500Z",
     "start_time": "2023-11-27T08:50:40.847044700Z"
    }
   },
   "outputs": [
    {
     "ename": "AttributeError",
     "evalue": "'TestNCaltechUtills' object has no attribute 'main'",
     "output_type": "error",
     "traceback": [
      "\u001B[0;31m---------------------------------------------------------------------------\u001B[0m",
      "\u001B[0;31mAttributeError\u001B[0m                            Traceback (most recent call last)",
      "Cell \u001B[0;32mIn[41], line 3\u001B[0m\n\u001B[1;32m      1\u001B[0m \u001B[38;5;28;01mfrom\u001B[39;00m \u001B[38;5;21;01mtests\u001B[39;00m\u001B[38;5;21;01m.\u001B[39;00m\u001B[38;5;21;01mutils\u001B[39;00m\u001B[38;5;21;01m.\u001B[39;00m\u001B[38;5;21;01mtest_ncaltech_utils\u001B[39;00m \u001B[38;5;28;01mimport\u001B[39;00m  \u001B[38;5;241m*\u001B[39m\n\u001B[1;32m      2\u001B[0m testcase \u001B[38;5;241m=\u001B[39m TestNCaltechUtills()\n\u001B[0;32m----> 3\u001B[0m \u001B[43mtestcase\u001B[49m\u001B[38;5;241;43m.\u001B[39;49m\u001B[43mmain\u001B[49m()\n",
      "\u001B[0;31mAttributeError\u001B[0m: 'TestNCaltechUtills' object has no attribute 'main'"
     ]
    }
   ],
   "source": [
    "from tests.utils.test_ncaltech_utils import  *\n",
    "testcase = TestNCaltechUtills()\n",
    "testcase.main()"
   ]
  },
  {
   "cell_type": "code",
   "execution_count": null,
   "outputs": [],
   "source": [],
   "metadata": {
    "collapsed": false,
    "pycharm": {
     "name": "#%%\n"
    }
   }
  }
 ],
 "metadata": {
  "kernelspec": {
   "display_name": "Python 3",
   "language": "python",
   "name": "python3"
  },
  "language_info": {
   "codemirror_mode": {
    "name": "ipython",
    "version": 2
   },
   "file_extension": ".py",
   "mimetype": "text/x-python",
   "name": "python",
   "nbconvert_exporter": "python",
   "pygments_lexer": "ipython2",
   "version": "2.7.6"
  }
 },
 "nbformat": 4,
 "nbformat_minor": 0
}
